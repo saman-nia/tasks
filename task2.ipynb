{
  "nbformat": 4,
  "nbformat_minor": 0,
  "metadata": {
    "colab": {
      "provenance": [],
      "authorship_tag": "ABX9TyOvEgSS+JwEGgkdw8beVjE9",
      "include_colab_link": true
    },
    "kernelspec": {
      "name": "python3",
      "display_name": "Python 3"
    },
    "language_info": {
      "name": "python"
    }
  },
  "cells": [
    {
      "cell_type": "markdown",
      "metadata": {
        "id": "view-in-github",
        "colab_type": "text"
      },
      "source": [
        "<a href=\"https://colab.research.google.com/github/saman-nia/tasks/blob/main/task2.ipynb\" target=\"_parent\"><img src=\"https://colab.research.google.com/assets/colab-badge.svg\" alt=\"Open In Colab\"/></a>"
      ]
    },
    {
      "cell_type": "markdown",
      "source": [
        "2.1 Import necessary libraries:"
      ],
      "metadata": {
        "id": "D2MvFLLCNodX"
      }
    },
    {
      "cell_type": "code",
      "source": [
        "import pandas as pd\n",
        "from transformers import GPT2LMHeadModel, GPT2Tokenizer, logging as hf_logging\n",
        "import matplotlib.pyplot as plt\n",
        "import logging\n",
        "import warnings\n",
        "import re"
      ],
      "metadata": {
        "id": "eAuuG5jOnz8l"
      },
      "execution_count": 1,
      "outputs": []
    },
    {
      "cell_type": "code",
      "source": [
        "# I turned off all warnings from pandas, transformers, and other libraries to show the results cleaned.\n",
        "warnings.filterwarnings('ignore')\n",
        "\n",
        "# I also avoid most logs\n",
        "logging.basicConfig(level=logging.ERROR)\n",
        "hf_logging.set_verbosity_error()"
      ],
      "metadata": {
        "id": "d4ur8dQz1J2a"
      },
      "execution_count": 2,
      "outputs": []
    },
    {
      "cell_type": "code",
      "source": [
        "\"\"\" Load the dataset. I could do it with 'from llama_index.core import SimpleDirectoryReader'\n",
        "    but since I load the data from my Github, Pandas would be better as the SimpleDirectoryReader reads from local directory \"\"\"\n",
        "\n",
        "url = 'https://raw.githubusercontent.com/saman-nia/tasks/main/pinterest-fashion-dataset.csv'\n",
        "data = pd.read_csv(url)\n",
        "data['price in $'] = pd.to_numeric(data['price in $'], errors='coerce').fillna(0)\n",
        "data.fillna({'ratings': data['ratings'].mean()}, inplace=True)\n",
        "\n",
        "# I convert the 'price in $' column to numeric, then I forced errors to NaN and filled with 0.\n",
        "data['price in $'] = pd.to_numeric(data['price in $'], errors='coerce')"
      ],
      "metadata": {
        "id": "nvRA2tlK1Nyt"
      },
      "execution_count": 3,
      "outputs": []
    },
    {
      "cell_type": "markdown",
      "source": [
        "For this task, I chose to use GPT-2 because of its easy integration in generating text, which aligns perfectly with the project's requirements for natural language response generation. While LlamaIndex and LangChain offer strong features, they require API access and more complex setup, which could complicate the project unnecessarily. GPT-2 has availability without the need for API keys made it the optimal choice, and it allowing me to focus on showing my text generation skills effectively. However, I have explored both LlamaIndex and LangChain to understand their application in real-world projects where their advanced retrieval and language processing capabilities would be essential. In my last experience, I had chance to use LangChain and I think it would not be a deal for me to use it in a real project."
      ],
      "metadata": {
        "id": "ewz-599lIcVS"
      }
    },
    {
      "cell_type": "code",
      "source": [
        "# I used the pre-trained GPT-2 tokenizer and model.\n",
        "tokenizer = GPT2Tokenizer.from_pretrained(\"gpt2\")\n",
        "model = GPT2LMHeadModel.from_pretrained(\"gpt2\")\n",
        "\n",
        "# Here I check and set the pad token for the tokenizer, and if not, the I set it\n",
        "if tokenizer.pad_token is None:\n",
        "    tokenizer.add_special_tokens({'pad_token': '[PAD]'})\n",
        "    model.resize_token_embeddings(len(tokenizer))"
      ],
      "metadata": {
        "id": "pTvAu7xZIata"
      },
      "execution_count": 4,
      "outputs": []
    },
    {
      "cell_type": "markdown",
      "source": [
        "2.2 Define Retrieval Function:"
      ],
      "metadata": {
        "id": "JcvNZIrBNk9q"
      }
    },
    {
      "cell_type": "code",
      "source": [
        "def retrieve_products(query):\n",
        "    # Retrieves products based on a user's text query with more flexible category matching.\n",
        "    category_match = re.search(r\"best (.+?) under\", query, re.IGNORECASE)\n",
        "    price_limit_match = re.search(r\"under (\\d+)\", query, re.IGNORECASE)\n",
        "\n",
        "    if category_match and price_limit_match:\n",
        "        category_query = category_match.group(1)\n",
        "        price_limit = int(price_limit_match.group(1))\n",
        "\n",
        "        # Attempt to find a category in the dataset that contains any part of the query category string\n",
        "        possible_categories = [cat for cat in data['category'].unique() if category_query.lower() in cat.lower()]\n",
        "        print(\"Possible Categories:\", possible_categories)  # Debug output to see what is being matched\n",
        "\n",
        "        if not possible_categories:\n",
        "            return \"No matching categories found. Please refine your category description.\"\n",
        "\n",
        "        filtered_data = data[\n",
        "            data['category'].isin(possible_categories) &\n",
        "            (data['price in $'] <= price_limit)\n",
        "        ]\n",
        "\n",
        "        if not filtered_data.empty:\n",
        "            return filtered_data.sort_values(by='ratings', ascending=False).head(5)\n",
        "        else:\n",
        "            return \"No products found matching your criteria within the price range.\"\n",
        "    else:\n",
        "        return \"Invalid query. Please specify a category and a price limit.\""
      ],
      "metadata": {
        "id": "s1GJtgd31gLh"
      },
      "execution_count": 5,
      "outputs": []
    },
    {
      "cell_type": "markdown",
      "source": [
        "2.3 RAG System with Product Recommendation:"
      ],
      "metadata": {
        "id": "hI_yrLdoNfCR"
      }
    },
    {
      "cell_type": "code",
      "source": [
        "def generate_text(prompt):\n",
        "    # Generates text using GPT-2 based on the provided prompt.\n",
        "    inputs = tokenizer.encode_plus(\n",
        "        prompt,\n",
        "        return_tensors=\"pt\",\n",
        "        add_special_tokens=True,\n",
        "        max_length=512,\n",
        "        padding='max_length',\n",
        "        truncation=True\n",
        "    )\n",
        "    input_ids = inputs['input_ids']\n",
        "    attention_mask = inputs['attention_mask']\n",
        "\n",
        "    # Generate text ensuring the output is controlled and concise\n",
        "    outputs = model.generate(\n",
        "        input_ids,\n",
        "        attention_mask=attention_mask,\n",
        "        max_length=input_ids.shape[1] + 50,\n",
        "        num_return_sequences=1,\n",
        "        no_repeat_ngram_size=2,\n",
        "        temperature=0.7,\n",
        "        top_p=0.9\n",
        "    )\n",
        "\n",
        "    text = tokenizer.decode(outputs[0], skip_special_tokens=True)\n",
        "    return text.split('. ')[0] + '.'  # Return the first sentence only for clarity"
      ],
      "metadata": {
        "id": "ZrttxWso1Q_a"
      },
      "execution_count": 6,
      "outputs": []
    },
    {
      "cell_type": "code",
      "source": [
        "def recommend_products(age, gender, location, interest):\n",
        "    # Enhances product recommendations with detailed justifications.\n",
        "    # Adjusting the age range for more flexible filtering\n",
        "    age_tolerance = 7\n",
        "    filtered = data[\n",
        "        (data['image_description'].str.contains(interest, case=False)) &\n",
        "        (data['age'].between(age - age_tolerance, age + age_tolerance)) &\n",
        "        (data['gender'].str.lower() == gender.lower())\n",
        "    ]\n",
        "\n",
        "    if not filtered.empty:\n",
        "        # Sorting to find the best-rated and affordable products\n",
        "        top_rated = filtered.sort_values(by=['ratings', 'price in $'], ascending=[False, True]).head(5)\n",
        "        product = top_rated.iloc[0]\n",
        "        prompt = (\n",
        "            f\"Based on your interests in {product['category']} and considering your location in {location}, \"\n",
        "            f\"we recommend {product['brand']} because it has a high rating of {product['ratings']} stars \"\n",
        "            f\"and is priced at just ${product['price in $']:.2f}, fitting well within your budget.\"\n",
        "        )\n",
        "        response = generate_text(prompt)\n",
        "        return response\n",
        "    else:\n",
        "        return \"We couldn't find products that match your preferences. Please try adjusting your filters.\""
      ],
      "metadata": {
        "id": "3UkIwB-j1ZRI"
      },
      "execution_count": 7,
      "outputs": []
    },
    {
      "cell_type": "code",
      "source": [
        "# Visualization to show insights into product ratings\n",
        "plt.figure(figsize=(10, 6))\n",
        "data['ratings'].hist(bins=20, color='skyblue')\n",
        "plt.title('Distribution of Product Ratings')\n",
        "plt.xlabel('Ratings')\n",
        "plt.ylabel('Frequency')\n",
        "plt.grid(False)\n",
        "plt.show()"
      ],
      "metadata": {
        "colab": {
          "base_uri": "https://localhost:8080/",
          "height": 564
        },
        "id": "Or_8m8dB1oNV",
        "outputId": "cfd6f1f3-1c5c-4fa1-a963-7beb47717d01"
      },
      "execution_count": 8,
      "outputs": [
        {
          "output_type": "display_data",
          "data": {
            "text/plain": [
              "<Figure size 1000x600 with 1 Axes>"
            ],
            "image/png": "[encoded data removed]"
          },
          "metadata": {}
        }
      ]
    },
    {
      "cell_type": "markdown",
      "source": [
        "Here are the categories in the datasets:\n",
        "\n",
        "'Shoes' 'Shirts & Tops' 'Coats & Jackets' 'Shorts' 'Pants' 'Sunglasses' 'Handbags, Wallets & Cases' 'Skirts' 'Necklaces' 'Earrings'"
      ],
      "metadata": {
        "id": "XOC1_P7wQHGp"
      }
    },
    {
      "cell_type": "code",
      "source": [
        "# Show retrieval\n",
        "query_result = retrieve_products(\"best shirts under 100\")\n",
        "print(query_result)"
      ],
      "metadata": {
        "colab": {
          "base_uri": "https://localhost:8080/"
        },
        "id": "x_wul20S15eA",
        "outputId": "ce40db2c-1d54-442b-9137-2e6ae42fcb7c"
      },
      "execution_count": 9,
      "outputs": [
        {
          "output_type": "stream",
          "name": "stdout",
          "text": [
            "Possible Categories: ['Shirts & Tops']\n",
            "      user_name  age  gender     location       category       brand  \\\n",
            "522  Customer_3   37  Female     Goulburn  Shirts & Tops        Puma   \n",
            "203  Customer_4   79    Male  Wagga Wagga  Shirts & Tops        Puma   \n",
            "128  Customer_9   26    Male      Bunbury  Shirts & Tops       Guess   \n",
            "306  Customer_7   68  Female     Goulburn  Shirts & Tops        Puma   \n",
            "135  Customer_6   38    Male        Perth  Shirts & Tops  Forever 21   \n",
            "\n",
            "     price in $  click_rate  availability  ratings  \\\n",
            "522       26.75         237     Available        5   \n",
            "203       37.25         254  Out of Stock        5   \n",
            "128       24.00         396     Available        5   \n",
            "306       34.50         436  Out of Stock        5   \n",
            "135       29.70         344     Available        5   \n",
            "\n",
            "                                             image_url  \\\n",
            "522  http://i.pinimg.com/400x/83/48/23/834823c96792...   \n",
            "203  http://i.pinimg.com/400x/88/f3/73/88f373a551f7...   \n",
            "128  http://i.pinimg.com/400x/7c/27/d9/7c27d9346a39...   \n",
            "306  http://i.pinimg.com/400x/c8/36/d2/c836d2e43662...   \n",
            "135  http://i.pinimg.com/400x/32/9a/9f/329a9f1b3137...   \n",
            "\n",
            "                                     image_description  \n",
            "522   A lightweight, embroidered, v-neck top with s...  \n",
            "203   A white crew neck t-shirt with the words \"Reb...  \n",
            "128   A sleeveless, white blouse with black polka d...  \n",
            "306   A cowl neck top in a soft, lightweight fabric...  \n",
            "135   A relaxed-fit crew-neck tee in soft, lightwei...  \n"
          ]
        }
      ]
    },
    {
      "cell_type": "code",
      "source": [
        "# Show recommendation\n",
        "demographic_result = recommend_products(35, \"female\", \"California\", \"Shoes\")\n",
        "print(demographic_result)"
      ],
      "metadata": {
        "colab": {
          "base_uri": "https://localhost:8080/"
        },
        "id": "SkZ9cQl_Oj0x",
        "outputId": "b982cb07-75fc-4534-f2f9-e0ff30e7bf31"
      },
      "execution_count": 10,
      "outputs": [
        {
          "output_type": "stream",
          "name": "stdout",
          "text": [
            "Based on your interests in Shoes and considering your location in California, we recommend Converse because it has a high rating of 5 stars and is priced at just $49.50, fitting well within your budget.\n"
          ]
        }
      ]
    },
    {
      "cell_type": "code",
      "source": [
        "# Show recommendation\n",
        "demographic_result = recommend_products(55, \"male\", \"California\", \"Sunglasses\")\n",
        "print(demographic_result)"
      ],
      "metadata": {
        "colab": {
          "base_uri": "https://localhost:8080/"
        },
        "id": "gTkK8RnlQS4X",
        "outputId": "b1c98db9-3774-41e0-8dc4-a050e6ba634e"
      },
      "execution_count": 11,
      "outputs": [
        {
          "output_type": "stream",
          "name": "stdout",
          "text": [
            "Based on your interests in Sunglasses and considering your location in California, we recommend Burberry because it has a high rating of 5 stars and is priced at just $87.50, fitting well within your budget.\n"
          ]
        }
      ]
    }
  ]
}